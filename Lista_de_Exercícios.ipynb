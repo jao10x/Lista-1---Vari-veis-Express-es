{
  "nbformat": 4,
  "nbformat_minor": 0,
  "metadata": {
    "colab": {
      "provenance": [],
      "authorship_tag": "ABX9TyOKLoH10tV8a2niB6kddSwV",
      "include_colab_link": true
    },
    "kernelspec": {
      "name": "python3",
      "display_name": "Python 3"
    },
    "language_info": {
      "name": "python"
    }
  },
  "cells": [
    {
      "cell_type": "markdown",
      "metadata": {
        "id": "view-in-github",
        "colab_type": "text"
      },
      "source": [
        "<a href=\"https://colab.research.google.com/github/jao10x/Lista-1---Vari-veis-Express-es/blob/main/Lista_de_Exerc%C3%ADcios.ipynb\" target=\"_parent\"><img src=\"https://colab.research.google.com/assets/colab-badge.svg\" alt=\"Open In Colab\"/></a>"
      ]
    },
    {
      "cell_type": "code",
      "source": [
        "a = int(input(\"Digite o primeiro número: \"))\n",
        "b = int(input(\"Digite o segundo número: \"))\n",
        "\n",
        "print(\"Soma:\", a + b)\n",
        "print(\"Produto:\", a * b)\n",
        "print(\"Diferença:\", a - b)\n",
        "print(\"Quociente:\", a // b if b != 0 else \"Divisão por zero não permitida\")"
      ],
      "metadata": {
        "colab": {
          "base_uri": "https://localhost:8080/"
        },
        "id": "Bz06kW3m3V_Y",
        "outputId": "ef0761bc-00c0-4385-cb42-b27a808d481f"
      },
      "execution_count": null,
      "outputs": [
        {
          "output_type": "stream",
          "name": "stdout",
          "text": [
            "Digite o primeiro número: 3\n",
            "Digite o segundo número: -5\n",
            "Soma: -2\n",
            "Produto: -15\n",
            "Diferença: 8\n",
            "Quociente: -1\n"
          ]
        }
      ]
    },
    {
      "cell_type": "code",
      "source": [
        "numero = int(input(\"Digite um número de 5 dígitos\"))\n",
        "\n",
        "digito1 = numero // 1000\n",
        "digito2 = (numero % 1000) // 1000\n",
        "digito3 = (numero % 1000) // 1000\n",
        "digito4 = (numero % 100) // 10\n",
        "digito5 = numero % 10\n",
        "\n",
        "print(digito1)\n",
        "print(digito2)\n",
        "print(digito3)\n",
        "print(digito4)\n",
        "print(digito5)"
      ],
      "metadata": {
        "colab": {
          "base_uri": "https://localhost:8080/"
        },
        "id": "1UU4FDoa3eqL",
        "outputId": "caef13fd-1109-4796-94f2-1997ac68bdd8"
      },
      "execution_count": 27,
      "outputs": [
        {
          "output_type": "stream",
          "name": "stdout",
          "text": [
            "Digite um número de 5 dígitos1\n",
            "0\n",
            "0\n",
            "0\n",
            "0\n",
            "1\n"
          ]
        }
      ]
    },
    {
      "cell_type": "code",
      "source": [
        "\n",
        "\n",
        "raio = float(input(\"Digite o raio do círculo: \"))\n",
        "pi = 3.14159\n",
        "\n",
        "diametro = 2 * raio\n",
        "circunferencia = 2 * pi * raio\n",
        "area = pi * raio ** 2\n",
        "\n",
        "print(\"Diâmetro:\", diametro)\n",
        "print(\"Circunferência:\", circunferencia)\n",
        "print(\"Área:\", area)"
      ],
      "metadata": {
        "colab": {
          "base_uri": "https://localhost:8080/"
        },
        "id": "mc3S9Jde3lO5",
        "outputId": "c4bf5a97-67b5-4af3-b8f5-e2becf4f8300"
      },
      "execution_count": null,
      "outputs": [
        {
          "output_type": "stream",
          "name": "stdout",
          "text": [
            "Digite o raio do círculo: 2\n",
            "Diâmetro: 4.0\n",
            "Circunferência: 12.56636\n",
            "Área: 12.56636\n"
          ]
        }
      ]
    },
    {
      "cell_type": "code",
      "source": [
        "populacao = float(input(\"Informe a população atual: \"))\n",
        "taxa = float(input(\"Informe a taxa de crescimento anual (ex: 1.02 para 2%): \"))\n",
        "\n",
        "for ano in range(1, 6):\n",
        "    populacao *= taxa\n",
        "    print(f\"População estimada no ano {ano}: {int(populacao)}\")"
      ],
      "metadata": {
        "colab": {
          "base_uri": "https://localhost:8080/"
        },
        "id": "9H5HR3d534s3",
        "outputId": "78647f40-9217-4a23-d720-e8fb4803745b"
      },
      "execution_count": null,
      "outputs": [
        {
          "output_type": "stream",
          "name": "stdout",
          "text": [
            "Informe a população atual: 1\n",
            "Informe a taxa de crescimento anual (ex: 1.02 para 2%): 3\n",
            "População estimada no ano 1: 3\n",
            "População estimada no ano 2: 9\n",
            "População estimada no ano 3: 27\n",
            "População estimada no ano 4: 81\n",
            "População estimada no ano 5: 243\n"
          ]
        }
      ]
    },
    {
      "cell_type": "code",
      "source": [
        "print(\"Número\\tQuadrado\\tCubo\")\n",
        "for i in range(11):\n",
        "    print(f\"{i}\\t{i**2}\\t\\t{i**3}\")"
      ],
      "metadata": {
        "colab": {
          "base_uri": "https://localhost:8080/"
        },
        "id": "vr42SBnW4IPv",
        "outputId": "e727a5b2-d2c0-4f4a-91e2-0289d6f6d174"
      },
      "execution_count": null,
      "outputs": [
        {
          "output_type": "stream",
          "name": "stdout",
          "text": [
            "Número\tQuadrado\tCubo\n",
            "0\t0\t\t0\n",
            "1\t1\t\t1\n",
            "2\t4\t\t8\n",
            "3\t9\t\t27\n",
            "4\t16\t\t64\n",
            "5\t25\t\t125\n",
            "6\t36\t\t216\n",
            "7\t49\t\t343\n",
            "8\t64\t\t512\n",
            "9\t81\t\t729\n",
            "10\t100\t\t1000\n"
          ]
        }
      ]
    },
    {
      "cell_type": "code",
      "source": [
        "peso = float(input(\"Digite seu peso em kg: \"))\n",
        "altura = float(input(\"Digite sua altura em metros: \"))\n",
        "\n",
        "imc = peso / (altura ** 2)\n",
        "print(f\"Seu IMC é: {imc:.2f}\")"
      ],
      "metadata": {
        "colab": {
          "base_uri": "https://localhost:8080/"
        },
        "id": "G9dJg5G34Oz9",
        "outputId": "ed6ab533-dc96-4cdf-ad65-d67f9605c3a5"
      },
      "execution_count": null,
      "outputs": [
        {
          "output_type": "stream",
          "name": "stdout",
          "text": [
            "Digite seu peso em kg: 50\n",
            "Digite sua altura em metros: 170\n",
            "Seu IMC é: 0.00\n"
          ]
        }
      ]
    }
  ]
}